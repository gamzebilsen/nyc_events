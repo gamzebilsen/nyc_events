{
 "cells": [
  {
   "cell_type": "code",
   "execution_count": 1,
   "id": "f3f6b2a6",
   "metadata": {},
   "outputs": [],
   "source": [
    "from bs4 import BeautifulSoup as bs\n",
    "from selenium import webdriver\n",
    "import time\n",
    "import requests\n",
    "import pandas as pd\n",
    "from selenium.common.exceptions import NoSuchElementException"
   ]
  },
  {
   "cell_type": "code",
   "execution_count": null,
   "id": "822bcabf",
   "metadata": {},
   "outputs": [],
   "source": [
    "websites = ['nyhistory.org',\n",
    "            'newmuseum.org',\n",
    "            'moma.org',\n",
    "            'metmuseum.org',\n",
    "            'columbia.edu',\n",
    "            'studiomuseum.org',\n",
    "            'nyc-arts.org',\n",
    "            'bowerypoetry.com',\n",
    "            'bookclubbar.com',\n",
    "            'centerforfiction.org',\n",
    "            'artomi.org',\n",
    "            'manhattantheatreclub.com',\n",
    "            'angelikafilmcenter.com',\n",
    "            'japansociety.com',\n",
    "            'folkartmuseum.org',\n",
    "            'lincolncenter.org',\n",
    "            'carnegiehall.org',\n",
    "            'paristheatrenyc.com',\n",
    "            'quadcinema.com',\n",
    "            'tribecafilmcenter.com',\n",
    "            'metrograph.com',\n",
    "            'ifccenter.com',\n",
    "            'filmforum.org',\n",
    "            'svatheatre.com',\n",
    "            'symphonyspace.org',\n",
    "            'theatreforthenewcity.net',\n",
    "            'lamama.org',\n",
    "            'aperture.org',\n",
    "            'http://www.sculpture-center.org/',\n",
    "            'https://centerforbookarts.org/',\n",
    "            'https://tallerboricua.org/',\n",
    "            'https://www.mcny.org/',\n",
    "            'https://www.momaps1.org/',\n",
    "            'https://www.thehort.org/',\n",
    "            'https://www.elmuseo.org/',\n",
    "            'https://aliceausten.org/',\n",
    "            'https://www.icp.org/',\n",
    "            'https://www.guggenheim.org/',\n",
    "            'https://www.wavehill.org/',\n",
    "            'roxycinemanewyork.com',\n",
    "            'http://anthologyfilmarchives.org/',\n",
    "            'drawingcenter.org'\n",
    "    \n",
    "]"
   ]
  }
 ],
 "metadata": {
  "kernelspec": {
   "display_name": "Python 3 (ipykernel)",
   "language": "python",
   "name": "python3"
  },
  "language_info": {
   "codemirror_mode": {
    "name": "ipython",
    "version": 3
   },
   "file_extension": ".py",
   "mimetype": "text/x-python",
   "name": "python",
   "nbconvert_exporter": "python",
   "pygments_lexer": "ipython3",
   "version": "3.9.7"
  }
 },
 "nbformat": 4,
 "nbformat_minor": 5
}
